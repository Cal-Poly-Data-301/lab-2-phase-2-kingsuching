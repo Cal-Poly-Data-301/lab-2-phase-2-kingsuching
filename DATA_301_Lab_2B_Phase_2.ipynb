{
  "nbformat": 4,
  "nbformat_minor": 0,
  "metadata": {
    "kernelspec": {
      "display_name": "Python 3",
      "language": "python",
      "name": "python3"
    },
    "language_info": {
      "codemirror_mode": {
        "name": "ipython",
        "version": 3
      },
      "file_extension": ".py",
      "mimetype": "text/x-python",
      "name": "python",
      "nbconvert_exporter": "python",
      "pygments_lexer": "ipython3",
      "version": "3.6.4"
    },
    "colab": {
      "name": "DATA 301 Lab 2B Phase 2",
      "provenance": [],
      "collapsed_sections": [],
      "include_colab_link": true
    }
  },
  "cells": [
    {
      "cell_type": "markdown",
      "metadata": {
        "id": "view-in-github",
        "colab_type": "text"
      },
      "source": [
        "<a href=\"https://colab.research.google.com/github/kingsuching/lab-2-phase-2-kingsuching/blob/main/DATA_301_Lab_2B_Phase_2.ipynb\" target=\"_parent\"><img src=\"https://colab.research.google.com/assets/colab-badge.svg\" alt=\"Open In Colab\"/></a>"
      ]
    },
    {
      "cell_type": "markdown",
      "metadata": {
        "id": "3GRr9ej57rEW"
      },
      "source": [
        "# Evidence of Discrimination?\n",
        "\n",
        "The Department of Developmental Services (DDS) in California is responsible for allocating funds to support over 250,000 developmentally-disabled residents. The data set `https://dlsun.github.io/pods/data/ca_dds_expenditures.csv` contains data about 1,000 of these residents. The data comes from a discrimination lawsuit which alleged that California's Department of Developmental Services (DDS) privileged white (non-Hispanic) residents over Hispanic residents in allocating funds. We will focus on comparing the allocation of funds (i.e., expenditures) for these two ethnicities only, although there are other ethnicities in this data set.\n",
        "\n",
        "There are 6 variables in this data set:\n",
        "\n",
        "- Id:  5-digit, unique identification code for each consumer (similar to a social security number and used for identification purposes)  \n",
        "- Age Cohort:  Binned age variable represented as six age cohorts (0-5, 6-12, 13-17, 18-21, 22-50, and 51+)\n",
        "- Age:  Unbinned age variable\n",
        "- Gender:  Male or Female\n",
        "- Expenditures:  Dollar amount of annual expenditures spent on each consumer\n",
        "- Ethnicity:  Eight ethnic groups (American Indian, Asian, Black, Hispanic, Multi-race, Native Hawaiian, Other, and White non-Hispanic)"
      ]
    },
    {
      "cell_type": "markdown",
      "metadata": {
        "id": "pBrvxdVd7rEY"
      },
      "source": [
        "# Question 1\n",
        "\n",
        "Read in the data set. Make a graphic that compares the _average_ expenditures by the DDS on Hispanic residents and white (non-Hispanic) residents. Comment on what you see."
      ]
    },
    {
      "cell_type": "code",
      "metadata": {
        "id": "HPu1DTOY7rEa",
        "colab": {
          "base_uri": "https://localhost:8080/",
          "height": 381
        },
        "outputId": "3ad1dc6b-46f7-4310-ef31-a70a4100686b"
      },
      "source": [
        "import pandas as pd\n",
        "import numpy as np\n",
        "import seaborn as sns\n",
        "dds = pd.read_csv(\"https://dlsun.github.io/pods/data/ca_dds_expenditures.csv\")\n",
        "dds.head()\n",
        "\n",
        "dds[dds[\"Ethnicity\"].str.contains(\"Hispanic\")].groupby(\"Ethnicity\")[\"Expenditures\"].mean().plot.bar()"
      ],
      "execution_count": 1,
      "outputs": [
        {
          "output_type": "execute_result",
          "data": {
            "text/plain": [
              "<matplotlib.axes._subplots.AxesSubplot at 0x7fd566ff2590>"
            ]
          },
          "metadata": {},
          "execution_count": 1
        },
        {
          "output_type": "display_data",
          "data": {
            "image/png": "[encoded data removed]",
            "text/plain": [
              "<Figure size 432x288 with 1 Axes>"
            ]
          },
          "metadata": {
            "needs_background": "light"
          }
        }
      ]
    },
    {
      "cell_type": "markdown",
      "metadata": {
        "id": "FvfRcog37rEf"
      },
      "source": [
        "**YOUR EXPLANATION HERE**\n",
        "\n",
        "White residents spent much more per year on average, approximately $24K/year. This was more than double the mean annual spending of Hispanic residents."
      ]
    },
    {
      "cell_type": "markdown",
      "metadata": {
        "id": "CmxE7M3o7rEg"
      },
      "source": [
        "# Question 2\n",
        "\n",
        "Now, calculate the average expenditures by ethnicity and age cohort. Make a graphic that compares the average expenditure on Hispanic residents and white (non-Hispanic) residents, _within each age cohort_. \n",
        "\n",
        "Comment on what you see. How do these results appear to contradict the results you obtained in Question 1?"
      ]
    },
    {
      "cell_type": "code",
      "metadata": {
        "id": "u_J1LRI37rEh",
        "colab": {
          "base_uri": "https://localhost:8080/",
          "height": 328
        },
        "outputId": "45af2426-909a-41e0-eda6-59354c6d5fc6"
      },
      "source": [
        "# YOUR CODE HERE\n",
        "dds[dds[\"Ethnicity\"].str.contains(\"Hispanic\")].groupby([\"Ethnicity\", \"Age Cohort\"])[\"Expenditures\"].mean().unstack(0).plot.bar()"
      ],
      "execution_count": 20,
      "outputs": [
        {
          "output_type": "execute_result",
          "data": {
            "text/plain": [
              "<matplotlib.axes._subplots.AxesSubplot at 0x7fd560d74110>"
            ]
          },
          "metadata": {},
          "execution_count": 20
        },
        {
          "output_type": "display_data",
          "data": {
            "image/png": "[encoded data removed]",
            "text/plain": [
              "<Figure size 432x288 with 1 Axes>"
            ]
          },
          "metadata": {
            "needs_background": "light"
          }
        }
      ]
    },
    {
      "cell_type": "markdown",
      "metadata": {
        "id": "CFriAmRB7rEl"
      },
      "source": [
        "**YOUR EXPLANATION HERE**"
      ]
    },
    {
      "cell_type": "markdown",
      "source": [
        "This barplot shows that Whites and Hispanics spent roughly the same when aggregated against age group. It makes intuitive sense to infer that these groups would have roughly the same mean annual spending since they spend roughly the same amount in each age group, which contradicts our conclusion in question 1."
      ],
      "metadata": {
        "id": "KBm8iOZWgggh"
      }
    },
    {
      "cell_type": "markdown",
      "metadata": {
        "id": "vNJHIPO77rEm"
      },
      "source": [
        "# Question 3\n",
        "\n",
        "Can you explain the discrepancy between the two analyses you conducted above (i.e., Questions 1 and 2)? Try to tell a complete story that interweaves tables, graphics, and explanation.\n",
        "\n",
        "_Hint:_ You might want to consider looking at:\n",
        "\n",
        "- the distributions of ages of Hispanics and whites\n",
        "- the average expenditure as a function of age"
      ]
    },
    {
      "cell_type": "code",
      "metadata": {
        "id": "mo4aLinP7rEn",
        "colab": {
          "base_uri": "https://localhost:8080/"
        },
        "outputId": "0284d58b-79c6-4570-823c-2cc7eea266ea"
      },
      "source": [
        "# YOUR CODE HERE (although you may want to add more code cells)\n",
        "meanWhite = dds.groupby(\"Ethnicity\")[\"Expenditures\"].mean()[\"White not Hispanic\"]\n",
        "meanHispanic = dds.groupby(\"Ethnicity\")[\"Expenditures\"].mean()[\"Hispanic\"]\n",
        "pd.crosstab(dds[\"Ethnicity\"], dds[\"Age Cohort\"], normalize=True).divide(dds[\"Age Cohort\"].value_counts(normalize=True)), \"===========================================================================================================\", dds.groupby(\"Age Cohort\")[\"Expenditures\"].mean().sort_values(ascending=False)"
      ],
      "execution_count": null,
      "outputs": [
        {
          "output_type": "execute_result",
          "data": {
            "text/plain": [
              "(                      0 to 5  13 to 17  18 to 21  22 to 50       51+   6 to 12\n",
              " Ethnicity                                                                     \n",
              " American Indian     0.000000  0.004717  0.000000  0.004425  0.018868  0.000000\n",
              " Asian               0.097561  0.094340  0.206030  0.128319  0.122642  0.102857\n",
              " Black               0.036585  0.056604  0.045226  0.075221  0.066038  0.062857\n",
              " Hispanic            0.536585  0.485849  0.391960  0.190265  0.160377  0.520000\n",
              " Multi Race          0.085366  0.033019  0.010050  0.004425  0.000000  0.051429\n",
              " Native Hawaiian     0.000000  0.000000  0.000000  0.008850  0.009434  0.000000\n",
              " Other               0.000000  0.009434  0.000000  0.000000  0.000000  0.000000\n",
              " White not Hispanic  0.243902  0.316038  0.346734  0.588496  0.622642  0.262857,\n",
              " '===========================================================================================================',\n",
              " Age Cohort\n",
              " 51+         53521.896226\n",
              " 22 to 50    40209.283186\n",
              " 18 to 21     9888.537688\n",
              " 13 to 17     3922.613208\n",
              " 6 to 12      2226.862857\n",
              " 0 to 5       1415.280488\n",
              " Name: Expenditures, dtype: float64)"
            ]
          },
          "metadata": {},
          "execution_count": 49
        }
      ]
    },
    {
      "cell_type": "code",
      "source": [
        "dds[(dds[\"Ethnicity\"] == \"White not Hispanic\") | (dds[\"Ethnicity\"] == \"Hispanic\")].groupby([\"Ethnicity\", \"Age Cohort\"])[\"Expenditures\"].mean().unstack(1).sort_index().plot.bar()"
      ],
      "metadata": {
        "colab": {
          "base_uri": "https://localhost:8080/",
          "height": 381
        },
        "id": "UjybQOZAmgxB",
        "outputId": "5c3a8343-98aa-46a0-87cc-98c1040298cf"
      },
      "execution_count": null,
      "outputs": [
        {
          "output_type": "execute_result",
          "data": {
            "text/plain": [
              "<matplotlib.axes._subplots.AxesSubplot at 0x7f5011fd5d50>"
            ]
          },
          "metadata": {},
          "execution_count": 50
        },
        {
          "output_type": "display_data",
          "data": {
            "image/png": "[encoded data removed]",
            "text/plain": [
              "<Figure size 432x288 with 1 Axes>"
            ]
          },
          "metadata": {
            "needs_background": "light"
          }
        }
      ]
    },
    {
      "cell_type": "markdown",
      "metadata": {
        "id": "dmdJ1RTp7rEq"
      },
      "source": [
        "**YOUR EXPLANATION HERE (although you may want to add more markdown cells)**\n",
        "\n",
        "Running a groupby summary on each cohort yields the 51+ age group to have the highest mean spending per year. From the conditional distribution in the first cell, we can see that given the residents who are in this age group, 62% of them were white and 16% were Hispanic. This leads to a weightage favoring the White group, which in turn drives up their mean annual spending.\n",
        "\n",
        "The barplot also shows us that both groups have a similar distribution for spending by age group, which shows that the difference in age group distribution for each ethnicity explains this relationship in the mean average spending per year."
      ]
    },
    {
      "cell_type": "markdown",
      "metadata": {
        "id": "4JdcqKm57rEr"
      },
      "source": [
        "## Submission Instructions\n",
        "\n",
        "- Copy this notebook to your own Drive, if you have not already.\n",
        "- Restart this notebook and run the cells from beginning to end. \n",
        "  - Go to Runtime > Restart and Run All.\n",
        "- Rename this notebook by clicking on \"DATA 301 Lab 2B - YOUR NAME HERE\" at the very top of this page. Replace \"YOUR NAMES HERE\" with the first and last names of you (and your partners, for Phase 2).\n",
        "- Get the link to your notebook:\n",
        "  - Click on \"Share\" at the top-right. \n",
        "  - Change the settings to \"Anyone with the link can view\". \n",
        "  - Copy the sharing link into Canvas."
      ]
    }
  ]
}